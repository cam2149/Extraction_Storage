{
  "nbformat": 4,
  "nbformat_minor": 0,
  "metadata": {
    "colab": {
      "provenance": [],
      "include_colab_link": true
    },
    "kernelspec": {
      "name": "python3",
      "display_name": "Python 3"
    }
  },
  "cells": [
    {
      "cell_type": "markdown",
      "metadata": {
        "id": "view-in-github",
        "colab_type": "text"
      },
      "source": [
        "<a href=\"https://colab.research.google.com/github/cam2149/Extraction_Storage/blob/main/WebScrapingEntregable_Practica_1.ipynb\" target=\"_parent\"><img src=\"https://colab.research.google.com/assets/colab-badge.svg\" alt=\"Open In Colab\"/></a>"
      ]
    },
    {
      "cell_type": "markdown",
      "metadata": {
        "id": "1_1-4X1ngy7j"
      },
      "source": []
    },
    {
      "cell_type": "markdown",
      "metadata": {
        "id": "EDQoB26XYb61"
      },
      "source": [
        "#Web Scraping Entregable Práctica 1\n",
        "**Página Books**"
      ]
    },
    {
      "cell_type": "markdown",
      "metadata": {
        "id": "eNpqHf6IYiIn"
      },
      "source": [
        "A continuación realizaremos la primer práctica de Web Scraping: Extracción de Datos en la Web, sobre un sitio de prueba de Web Scraping.\n",
        "Extraer los datos solicitados de un sitio web utilizando Python y BeautifulSoup.\n"
      ]
    },
    {
      "cell_type": "markdown",
      "source": [
        "**1. Preparar  Colab**\n"
      ],
      "metadata": {
        "id": "O8Du-Mw1uwZb"
      }
    },
    {
      "cell_type": "code",
      "metadata": {
        "id": "_CaOedinHk50",
        "colab": {
          "base_uri": "https://localhost:8080/"
        },
        "outputId": "c1bb3d53-8888-499d-d718-3fa89594921b"
      },
      "source": [
        "# Collab trae estas librerías por defecto\n",
        "!pip install requests\n",
        "!pip install beautifulsoup4"
      ],
      "execution_count": 1,
      "outputs": [
        {
          "output_type": "stream",
          "name": "stdout",
          "text": [
            "Requirement already satisfied: requests in /usr/local/lib/python3.10/dist-packages (2.32.3)\n",
            "Requirement already satisfied: charset-normalizer<4,>=2 in /usr/local/lib/python3.10/dist-packages (from requests) (3.3.2)\n",
            "Requirement already satisfied: idna<4,>=2.5 in /usr/local/lib/python3.10/dist-packages (from requests) (3.10)\n",
            "Requirement already satisfied: urllib3<3,>=1.21.1 in /usr/local/lib/python3.10/dist-packages (from requests) (2.2.3)\n",
            "Requirement already satisfied: certifi>=2017.4.17 in /usr/local/lib/python3.10/dist-packages (from requests) (2024.8.30)\n",
            "Requirement already satisfied: beautifulsoup4 in /usr/local/lib/python3.10/dist-packages (4.12.3)\n",
            "Requirement already satisfied: soupsieve>1.2 in /usr/local/lib/python3.10/dist-packages (from beautifulsoup4) (2.6)\n"
          ]
        }
      ]
    },
    {
      "cell_type": "markdown",
      "metadata": {
        "id": "fFrx88izRJwX"
      },
      "source": [
        "**2. Importar la librerias**\n",
        "* **Requests**: Esta librería permite realizar peticiones usando cualquiera de los métodos (get, post, put, delete, patch), envío de parámetros y modificaciones de las cabeceras.\n",
        "\n",
        "* **BeautifulSoup o bs4**: es una librería que se utiliza para extraer datos de htmls y xml, esta librería nos facilitará el trabajo a la hora de extraer la información."
      ]
    },
    {
      "cell_type": "code",
      "metadata": {
        "id": "xFqV6sD1IaJv"
      },
      "source": [
        "# Importar las librerías necesarias\n",
        "import requests\n",
        "from bs4 import BeautifulSoup"
      ],
      "execution_count": 2,
      "outputs": []
    },
    {
      "cell_type": "markdown",
      "source": [
        "**3. Página Web objetivo**\n",
        "\n",
        "Para nuestra práctica usaremos a la URL de un sitio web de demostración que está diseñado para practicar web scraping. No es un sitio comercial real, sino que es una plataforma creada para que desarrolladores y personas interesadas en aprender a realizar web scraping puedan hacerlo sin infringir políticas de uso de sitios web comerciales.\n",
        "```\n",
        "https://books.toscrape.com\n",
        "```\n",
        "\n"
      ],
      "metadata": {
        "id": "tEdmhP3Flvig"
      }
    },
    {
      "cell_type": "markdown",
      "source": [
        "**Actividad:**\n",
        "\n",
        "Para cada producto se debe obtener y mostrar lo siguiente:\n",
        "\n",
        "\n",
        "\n",
        "1.   Título\n",
        "2.   Precio\n",
        "3.   Disponibilidad\n",
        "4.   Rating\n",
        "\n"
      ],
      "metadata": {
        "id": "wFkE0cmYkXVR"
      }
    },
    {
      "cell_type": "code",
      "metadata": {
        "id": "ueC2apB-HxVZ"
      },
      "source": [
        "# Nuestra página objetivo\n",
        "url_objetivo = \"https://books.toscrape.com/\""
      ],
      "execution_count": 3,
      "outputs": []
    },
    {
      "cell_type": "code",
      "source": [
        "# Obtener un requests de la URL objetivo\n",
        "site = requests.get(url_objetivo)\n",
        "\n",
        "# Si el Status Code es OK!\n",
        "if site.status_code == 200:\n",
        "  # Hacer al Site un soup\n",
        "  soup = BeautifulSoup(site.text)\n"
      ],
      "metadata": {
        "id": "bhng9n08iGdE"
      },
      "execution_count": 4,
      "outputs": []
    },
    {
      "cell_type": "code",
      "source": [
        "soup = BeautifulSoup(site.text)\n"
      ],
      "metadata": {
        "id": "0Zg8bOyajA4n",
        "collapsed": true
      },
      "execution_count": 5,
      "outputs": []
    },
    {
      "cell_type": "code",
      "source": [
        "def remove_first_chars(text):\n",
        "  if len(text) >= 2:\n",
        "    return text[1:]\n",
        "  else:\n",
        "    return text\n",
        "\n",
        "#Funcion para obtener el titulo del producto\n",
        "def get_book_title(book):\n",
        "  return book.find('h3').find('a')['title']\n",
        "\n",
        "#Funcion para obtener el precio del producto\n",
        "def get_book_price(book):\n",
        "  #precio = book.find('p', {'class': 'price_color'}).text.strip()\n",
        "  return remove_first_chars(book.find(class_=\"price_color\").text.strip())\n",
        "\n",
        "#Funcion para obtener si el producto tiene stock\n",
        "def get_book_availability(book):\n",
        "  return book.find('p', {'class': 'instock availability'}).text.strip()\n",
        "\n",
        "#Funcion para obtener el el producto tiene stock\n",
        "def get_book_star_rating(book):\n",
        "  rating_class = book.find('p', {'class': 'star-rating'}).get('class')\n",
        "  rating_class_value = rating_class[1]\n",
        "  rating_map = {'One': 1, 'Two': 2, 'Three': 3, 'Four': 4, 'Five': 5}\n",
        "  return rating_map[rating_class_value]\n",
        "\n",
        "\n",
        "\n",
        "def scrape_books(books):\n",
        "    for book in books:\n",
        "        title = get_book_title(book)\n",
        "        price = get_book_price(book)\n",
        "        availability = get_book_availability(book)\n",
        "        star_rating = get_book_star_rating(book)\n",
        "\n",
        "        print(f\"Titulo: {title}\")\n",
        "        print(f\"Precio: {price}\")\n",
        "        print(f\"Disponibilidad: {availability}\")\n",
        "        print(f\"Rating: {star_rating} estrellas\")\n",
        "        print(\"-\" * 50)\n",
        "\n",
        "def scrape_books_five_stars(books):\n",
        "    print(\"-\" * 50)\n",
        "    print(\"-\" * 50)\n",
        "    for book in books:\n",
        "      if get_book_star_rating(book) == 5:\n",
        "        title = get_book_title(book)\n",
        "        price = get_book_price(book)\n",
        "        availability = get_book_availability(book)\n",
        "        star_rating = get_book_star_rating(book)\n",
        "\n",
        "        print(f\"Titulo: {title}\")\n",
        "        print(f\"Precio: {price}\")\n",
        "        print(f\"Disponibilidad: {availability}\")\n",
        "        print(f\"Rating: {star_rating} estrellas\")\n",
        "        print(\"-\" * 50)\n",
        "\n",
        "def sort_books(books, sort_by):\n",
        "    \"\"\"Sort the books based on the specified criteria.\"\"\"\n",
        "    if sort_by == 'title':\n",
        "        scrape_books(sorted(books, key=get_book_title))\n",
        "    elif sort_by == 'price':\n",
        "        scrape_books(sorted(books, key=get_book_price))\n",
        "    elif sort_by == 'availability':\n",
        "        scrape_books(sorted(books, key=get_book_availability))\n",
        "    elif sort_by == 'star_rating':\n",
        "        scrape_books(sorted(books, key=get_book_star_rating))\n",
        "    else:\n",
        "        raise ValueError(\"Invalid sort_by parameter. Use 'title', 'price', 'availability', or 'star_rating'.\")"
      ],
      "metadata": {
        "id": "3ejBpgoE5bho"
      },
      "execution_count": 21,
      "outputs": []
    },
    {
      "cell_type": "code",
      "source": [
        "\"\"\"Scrape books from the given URL.\"\"\"\n",
        "response = requests.get(url_objetivo)\n",
        "soup = BeautifulSoup(response.text, 'html.parser')\n",
        ""
      ],
      "metadata": {
        "id": "YoSN4uu27aN1"
      },
      "execution_count": 26,
      "outputs": []
    },
    {
      "cell_type": "code",
      "source": [
        "# @title Listado de todos los libros\n",
        "books = soup.find_all('article', {'class': 'product_pod'})\n",
        "scrape_books(books)"
      ],
      "metadata": {
        "id": "YgdDk8fcGtaD",
        "outputId": "57ea7be9-d2fb-46a9-bf54-8fba89695d67",
        "colab": {
          "base_uri": "https://localhost:8080/"
        }
      },
      "execution_count": 28,
      "outputs": [
        {
          "output_type": "stream",
          "name": "stdout",
          "text": [
            "Titulo: A Light in the Attic\n",
            "Precio: £51.77\n",
            "Disponibilidad: In stock\n",
            "Rating: 3 estrellas\n",
            "--------------------------------------------------\n",
            "Titulo: Tipping the Velvet\n",
            "Precio: £53.74\n",
            "Disponibilidad: In stock\n",
            "Rating: 1 estrellas\n",
            "--------------------------------------------------\n",
            "Titulo: Soumission\n",
            "Precio: £50.10\n",
            "Disponibilidad: In stock\n",
            "Rating: 1 estrellas\n",
            "--------------------------------------------------\n",
            "Titulo: Sharp Objects\n",
            "Precio: £47.82\n",
            "Disponibilidad: In stock\n",
            "Rating: 4 estrellas\n",
            "--------------------------------------------------\n",
            "Titulo: Sapiens: A Brief History of Humankind\n",
            "Precio: £54.23\n",
            "Disponibilidad: In stock\n",
            "Rating: 5 estrellas\n",
            "--------------------------------------------------\n",
            "Titulo: The Requiem Red\n",
            "Precio: £22.65\n",
            "Disponibilidad: In stock\n",
            "Rating: 1 estrellas\n",
            "--------------------------------------------------\n",
            "Titulo: The Dirty Little Secrets of Getting Your Dream Job\n",
            "Precio: £33.34\n",
            "Disponibilidad: In stock\n",
            "Rating: 4 estrellas\n",
            "--------------------------------------------------\n",
            "Titulo: The Coming Woman: A Novel Based on the Life of the Infamous Feminist, Victoria Woodhull\n",
            "Precio: £17.93\n",
            "Disponibilidad: In stock\n",
            "Rating: 3 estrellas\n",
            "--------------------------------------------------\n",
            "Titulo: The Boys in the Boat: Nine Americans and Their Epic Quest for Gold at the 1936 Berlin Olympics\n",
            "Precio: £22.60\n",
            "Disponibilidad: In stock\n",
            "Rating: 4 estrellas\n",
            "--------------------------------------------------\n",
            "Titulo: The Black Maria\n",
            "Precio: £52.15\n",
            "Disponibilidad: In stock\n",
            "Rating: 1 estrellas\n",
            "--------------------------------------------------\n",
            "Titulo: Starving Hearts (Triangular Trade Trilogy, #1)\n",
            "Precio: £13.99\n",
            "Disponibilidad: In stock\n",
            "Rating: 2 estrellas\n",
            "--------------------------------------------------\n",
            "Titulo: Shakespeare's Sonnets\n",
            "Precio: £20.66\n",
            "Disponibilidad: In stock\n",
            "Rating: 4 estrellas\n",
            "--------------------------------------------------\n",
            "Titulo: Set Me Free\n",
            "Precio: £17.46\n",
            "Disponibilidad: In stock\n",
            "Rating: 5 estrellas\n",
            "--------------------------------------------------\n",
            "Titulo: Scott Pilgrim's Precious Little Life (Scott Pilgrim #1)\n",
            "Precio: £52.29\n",
            "Disponibilidad: In stock\n",
            "Rating: 5 estrellas\n",
            "--------------------------------------------------\n",
            "Titulo: Rip it Up and Start Again\n",
            "Precio: £35.02\n",
            "Disponibilidad: In stock\n",
            "Rating: 5 estrellas\n",
            "--------------------------------------------------\n",
            "Titulo: Our Band Could Be Your Life: Scenes from the American Indie Underground, 1981-1991\n",
            "Precio: £57.25\n",
            "Disponibilidad: In stock\n",
            "Rating: 3 estrellas\n",
            "--------------------------------------------------\n",
            "Titulo: Olio\n",
            "Precio: £23.88\n",
            "Disponibilidad: In stock\n",
            "Rating: 1 estrellas\n",
            "--------------------------------------------------\n",
            "Titulo: Mesaerion: The Best Science Fiction Stories 1800-1849\n",
            "Precio: £37.59\n",
            "Disponibilidad: In stock\n",
            "Rating: 1 estrellas\n",
            "--------------------------------------------------\n",
            "Titulo: Libertarianism for Beginners\n",
            "Precio: £51.33\n",
            "Disponibilidad: In stock\n",
            "Rating: 2 estrellas\n",
            "--------------------------------------------------\n",
            "Titulo: It's Only the Himalayas\n",
            "Precio: £45.17\n",
            "Disponibilidad: In stock\n",
            "Rating: 2 estrellas\n",
            "--------------------------------------------------\n"
          ]
        }
      ]
    },
    {
      "cell_type": "code",
      "source": [
        "# @title Listado de libros calificados con 5 estrellas\n",
        "scrape_books_five_stars(books)"
      ],
      "metadata": {
        "id": "vtlpTaRPGggX",
        "outputId": "3a62d6b6-ef39-4cff-925c-b8d53f85f939",
        "colab": {
          "base_uri": "https://localhost:8080/"
        }
      },
      "execution_count": 24,
      "outputs": [
        {
          "output_type": "stream",
          "name": "stdout",
          "text": [
            "--------------------------------------------------\n",
            "--------------------------------------------------\n",
            "Titulo: Sapiens: A Brief History of Humankind\n",
            "Precio: £54.23\n",
            "Disponibilidad: In stock\n",
            "Rating: 5 estrellas\n",
            "--------------------------------------------------\n",
            "Titulo: Set Me Free\n",
            "Precio: £17.46\n",
            "Disponibilidad: In stock\n",
            "Rating: 5 estrellas\n",
            "--------------------------------------------------\n",
            "Titulo: Scott Pilgrim's Precious Little Life (Scott Pilgrim #1)\n",
            "Precio: £52.29\n",
            "Disponibilidad: In stock\n",
            "Rating: 5 estrellas\n",
            "--------------------------------------------------\n",
            "Titulo: Rip it Up and Start Again\n",
            "Precio: £35.02\n",
            "Disponibilidad: In stock\n",
            "Rating: 5 estrellas\n",
            "--------------------------------------------------\n"
          ]
        }
      ]
    },
    {
      "cell_type": "code",
      "source": [
        "# @title Listado de libros ordenados por precio\n",
        "sorted_books = sort_books(books, 'price')"
      ],
      "metadata": {
        "id": "g08QvmQvGR88",
        "outputId": "d4b332ee-8707-4620-9796-ba2bfee58431",
        "colab": {
          "base_uri": "https://localhost:8080/"
        }
      },
      "execution_count": 23,
      "outputs": [
        {
          "output_type": "stream",
          "name": "stdout",
          "text": [
            "Titulo: Starving Hearts (Triangular Trade Trilogy, #1)\n",
            "Precio: £13.99\n",
            "Disponibilidad: In stock\n",
            "Rating: 2 estrellas\n",
            "--------------------------------------------------\n",
            "Titulo: Set Me Free\n",
            "Precio: £17.46\n",
            "Disponibilidad: In stock\n",
            "Rating: 5 estrellas\n",
            "--------------------------------------------------\n",
            "Titulo: The Coming Woman: A Novel Based on the Life of the Infamous Feminist, Victoria Woodhull\n",
            "Precio: £17.93\n",
            "Disponibilidad: In stock\n",
            "Rating: 3 estrellas\n",
            "--------------------------------------------------\n",
            "Titulo: Shakespeare's Sonnets\n",
            "Precio: £20.66\n",
            "Disponibilidad: In stock\n",
            "Rating: 4 estrellas\n",
            "--------------------------------------------------\n",
            "Titulo: The Boys in the Boat: Nine Americans and Their Epic Quest for Gold at the 1936 Berlin Olympics\n",
            "Precio: £22.60\n",
            "Disponibilidad: In stock\n",
            "Rating: 4 estrellas\n",
            "--------------------------------------------------\n",
            "Titulo: The Requiem Red\n",
            "Precio: £22.65\n",
            "Disponibilidad: In stock\n",
            "Rating: 1 estrellas\n",
            "--------------------------------------------------\n",
            "Titulo: Olio\n",
            "Precio: £23.88\n",
            "Disponibilidad: In stock\n",
            "Rating: 1 estrellas\n",
            "--------------------------------------------------\n",
            "Titulo: The Dirty Little Secrets of Getting Your Dream Job\n",
            "Precio: £33.34\n",
            "Disponibilidad: In stock\n",
            "Rating: 4 estrellas\n",
            "--------------------------------------------------\n",
            "Titulo: Rip it Up and Start Again\n",
            "Precio: £35.02\n",
            "Disponibilidad: In stock\n",
            "Rating: 5 estrellas\n",
            "--------------------------------------------------\n",
            "Titulo: Mesaerion: The Best Science Fiction Stories 1800-1849\n",
            "Precio: £37.59\n",
            "Disponibilidad: In stock\n",
            "Rating: 1 estrellas\n",
            "--------------------------------------------------\n",
            "Titulo: It's Only the Himalayas\n",
            "Precio: £45.17\n",
            "Disponibilidad: In stock\n",
            "Rating: 2 estrellas\n",
            "--------------------------------------------------\n",
            "Titulo: Sharp Objects\n",
            "Precio: £47.82\n",
            "Disponibilidad: In stock\n",
            "Rating: 4 estrellas\n",
            "--------------------------------------------------\n",
            "Titulo: Soumission\n",
            "Precio: £50.10\n",
            "Disponibilidad: In stock\n",
            "Rating: 1 estrellas\n",
            "--------------------------------------------------\n",
            "Titulo: Libertarianism for Beginners\n",
            "Precio: £51.33\n",
            "Disponibilidad: In stock\n",
            "Rating: 2 estrellas\n",
            "--------------------------------------------------\n",
            "Titulo: A Light in the Attic\n",
            "Precio: £51.77\n",
            "Disponibilidad: In stock\n",
            "Rating: 3 estrellas\n",
            "--------------------------------------------------\n",
            "Titulo: The Black Maria\n",
            "Precio: £52.15\n",
            "Disponibilidad: In stock\n",
            "Rating: 1 estrellas\n",
            "--------------------------------------------------\n",
            "Titulo: Scott Pilgrim's Precious Little Life (Scott Pilgrim #1)\n",
            "Precio: £52.29\n",
            "Disponibilidad: In stock\n",
            "Rating: 5 estrellas\n",
            "--------------------------------------------------\n",
            "Titulo: Tipping the Velvet\n",
            "Precio: £53.74\n",
            "Disponibilidad: In stock\n",
            "Rating: 1 estrellas\n",
            "--------------------------------------------------\n",
            "Titulo: Sapiens: A Brief History of Humankind\n",
            "Precio: £54.23\n",
            "Disponibilidad: In stock\n",
            "Rating: 5 estrellas\n",
            "--------------------------------------------------\n",
            "Titulo: Our Band Could Be Your Life: Scenes from the American Indie Underground, 1981-1991\n",
            "Precio: £57.25\n",
            "Disponibilidad: In stock\n",
            "Rating: 3 estrellas\n",
            "--------------------------------------------------\n"
          ]
        }
      ]
    },
    {
      "cell_type": "code",
      "source": [
        "import requests\n",
        "from bs4 import BeautifulSoup\n",
        "\n",
        "def remove_first_two_chars(text):\n",
        "  if len(text) >= 2:\n",
        "    return text[1:]\n",
        "  else:\n",
        "    return text\n",
        "\n",
        "def sum_value_books(url):\n",
        "  # Hacer una nueva solicitud a la página de \"Childrens\"\n",
        "  site = requests.get(url)\n",
        "  if site.status_code == 200:\n",
        "    soup = BeautifulSoup(site.text, 'html.parser')\n",
        "    # Encontrar todos los elementos que tengan la clase \"price_color\"\n",
        "    price_elements = soup.find_all(class_=\"price_color\")\n",
        "    total_price = 0\n",
        "    for price_element in price_elements:\n",
        "      try:\n",
        "        # Eliminar el símbolo £ y convertir a float\n",
        "        price_str = price_element.text.replace(\"Â£\", \"0\")\n",
        "        price_str = remove_first_two_chars(price_element.text.replace(\"Â£\", \"0\"))\n",
        "        #print(price_str)\n",
        "        price = float(price_str)\n",
        "        total_price += price\n",
        "      except ValueError:\n",
        "        print(f\"Error al convertir el precio: {price_element.text}\")\n",
        "\n",
        "    print(f\"La suma total de los precios de los libros de la categoría es: £{total_price}\")\n",
        "  else:\n",
        "    print(f\"Error al obtener la página:{site} {site.status_code}\")\n",
        "\n",
        "\n",
        "site = requests.get(url_objetivo)\n",
        "\n",
        "if site.status_code == 200:\n",
        "  soup = BeautifulSoup(site.text, 'html.parser')\n",
        "\n",
        "  # Obtener todas las etiquetas de enlace que hay en la web\n",
        "  tags = soup('a')\n",
        "  # Recorrer con un ciclo para imprimir el contenido\n",
        "  total_price = 0\n",
        "  for tag in tags:\n",
        "    if 'childrens' in tag.get('href'):\n",
        "      print(f\"Enlace encontrado con 'children': {tag.get('href')}\")\n",
        "      childrens_link = tag.get('href')\n",
        "      # Construir la URL completa del enlace de \"Childrens\"\n",
        "      childrens_url = url_objetivo + childrens_link\n",
        "      print(childrens_url)\n",
        "      sum_value_books(childrens_url)\n",
        "\n",
        "\n",
        "  print(f\"Suma total de los precios de los libros: {total_price}\")\n",
        "else:\n",
        "    print(\"No se pudo acceder a la URL.\")\n"
      ],
      "metadata": {
        "id": "7f2PgGPZmJwP",
        "outputId": "8408d34e-ae0a-4445-fae8-3b8d8efced82",
        "colab": {
          "base_uri": "https://localhost:8080/"
        }
      },
      "execution_count": 30,
      "outputs": [
        {
          "output_type": "stream",
          "name": "stdout",
          "text": [
            "Enlace encontrado con 'children': catalogue/category/books/childrens_11/index.html\n",
            "https://books.toscrape.com/catalogue/category/books/childrens_11/index.html\n",
            "La suma total de los precios de los libros de la categoría es: £728.0500000000001\n",
            "Suma total de los precios de los libros: 0\n"
          ]
        }
      ]
    },
    {
      "cell_type": "code",
      "source": [],
      "metadata": {
        "id": "ivTxIhtN4LzQ"
      },
      "execution_count": 8,
      "outputs": []
    }
  ]
}