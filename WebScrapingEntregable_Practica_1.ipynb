{
  "nbformat": 4,
  "nbformat_minor": 0,
  "metadata": {
    "colab": {
      "provenance": [],
      "include_colab_link": true
    },
    "kernelspec": {
      "name": "python3",
      "display_name": "Python 3"
    }
  },
  "cells": [
    {
      "cell_type": "markdown",
      "metadata": {
        "id": "view-in-github",
        "colab_type": "text"
      },
      "source": [
        "<a href=\"https://colab.research.google.com/github/cam2149/Extraction_Storage/blob/main/WebScrapingEntregable_Practica_1.ipynb\" target=\"_parent\"><img src=\"https://colab.research.google.com/assets/colab-badge.svg\" alt=\"Open In Colab\"/></a>"
      ]
    },
    {
      "cell_type": "markdown",
      "metadata": {
        "id": "1_1-4X1ngy7j"
      },
      "source": [
        "\n",
        "<font color=\"red\">*Para iniciar, cree su propia copia de este notebook. File> Save a Copy in Drive*</font>\n",
        "\n",
        "\n",
        "---\n",
        "<font color=\"green\">\n",
        "Ten en cuenta los siguientes pasos:\n",
        "1.    \n",
        "\n",
        "1.   Ve al menú \"Archivo\" en la esquina superior izquierda de la interfaz de Colab.\n",
        "2.   Selecciona la opción \"Guardar una copia en Drive\" del menú desplegable. Esto creará una copia del cuaderno en tu propia cuenta de Google Drive.\n",
        "3. Google Colab abrirá automáticamente la nueva copia del cuaderno, y verás que ahora está ubicado en tu Google Drive en la carpeta \"Colab Notebooks\".\n",
        "4. Puedes editar y ejecutar esta copia del cuaderno como desees, y todos los cambios que hagas se guardarán en tu propia cuenta de Google Drive.\n",
        "\n",
        "</font>"
      ]
    },
    {
      "cell_type": "markdown",
      "metadata": {
        "id": "EDQoB26XYb61"
      },
      "source": [
        "#Web Scraping Práctica 1\n",
        "**Página Books**"
      ]
    },
    {
      "cell_type": "markdown",
      "metadata": {
        "id": "eNpqHf6IYiIn"
      },
      "source": [
        "A continuación realizaremos la primer práctica de Web Scraping: Extracción de Datos en la Web, sobre un sitio de prueba de Web Scraping."
      ]
    },
    {
      "cell_type": "markdown",
      "source": [
        "**1. Preparar  Colab**\n"
      ],
      "metadata": {
        "id": "O8Du-Mw1uwZb"
      }
    },
    {
      "cell_type": "code",
      "metadata": {
        "id": "_CaOedinHk50",
        "colab": {
          "base_uri": "https://localhost:8080/"
        },
        "outputId": "4e1a5452-017d-45a0-d9c2-2854b5f138e3"
      },
      "source": [
        "# Collab trae estas librerías por defecto\n",
        "!pip install requests\n",
        "!pip install beautifulsoup4"
      ],
      "execution_count": 1,
      "outputs": [
        {
          "output_type": "stream",
          "name": "stdout",
          "text": [
            "Requirement already satisfied: requests in /usr/local/lib/python3.10/dist-packages (2.32.3)\n",
            "Requirement already satisfied: charset-normalizer<4,>=2 in /usr/local/lib/python3.10/dist-packages (from requests) (3.3.2)\n",
            "Requirement already satisfied: idna<4,>=2.5 in /usr/local/lib/python3.10/dist-packages (from requests) (3.10)\n",
            "Requirement already satisfied: urllib3<3,>=1.21.1 in /usr/local/lib/python3.10/dist-packages (from requests) (2.2.3)\n",
            "Requirement already satisfied: certifi>=2017.4.17 in /usr/local/lib/python3.10/dist-packages (from requests) (2024.8.30)\n",
            "Requirement already satisfied: beautifulsoup4 in /usr/local/lib/python3.10/dist-packages (4.12.3)\n",
            "Requirement already satisfied: soupsieve>1.2 in /usr/local/lib/python3.10/dist-packages (from beautifulsoup4) (2.6)\n"
          ]
        }
      ]
    },
    {
      "cell_type": "markdown",
      "metadata": {
        "id": "fFrx88izRJwX"
      },
      "source": [
        "**2. Importar la librerias**\n",
        "* **Requests**: Esta librería permite realizar peticiones usando cualquiera de los métodos (get, post, put, delete, patch), envío de parámetros y modificaciones de las cabeceras.\n",
        "\n",
        "* **BeautifulSoup o bs4**: es una librería que se utiliza para extraer datos de htmls y xml, esta librería nos facilitará el trabajo a la hora de extraer la información."
      ]
    },
    {
      "cell_type": "code",
      "metadata": {
        "id": "xFqV6sD1IaJv"
      },
      "source": [
        "# Importar las librerías necesarias\n",
        "import requests\n",
        "from bs4 import BeautifulSoup"
      ],
      "execution_count": 2,
      "outputs": []
    },
    {
      "cell_type": "markdown",
      "source": [
        "**3. Página Web objetivo**\n",
        "\n",
        "Para nuestra práctica usaremos a la URL de un sitio web de demostración que está diseñado para practicar web scraping. No es un sitio comercial real, sino que es una plataforma creada para que desarrolladores y personas interesadas en aprender a realizar web scraping puedan hacerlo sin infringir políticas de uso de sitios web comerciales.\n",
        "```\n",
        "https://books.toscrape.com\n",
        "```\n",
        "***Características del sitio:***\n",
        "\n",
        "*Catálogo de libros*: El sitio muestra una colección de libros con sus títulos, precios, categorías, clasificaciones y descripciones, simulando una tienda en línea de venta de libros.\n",
        "\n",
        "*Práctica segura para scraping*: Como está diseñado para este propósito, puedes realizar scraping de sus páginas sin preocuparte por restricciones legales, ya que no tiene las mismas limitaciones que un sitio comercial real.\n",
        "\n",
        "*Estructura HTML sencilla*: El sitio tiene una estructura HTML relativamente simple y es ideal para aprender cómo extraer datos como:\n",
        "* Títulos de libros.\n",
        "* Precios.\n",
        "* Disponibilidad.\n",
        "* Valoraciones (estrellas).\n",
        "\n"
      ],
      "metadata": {
        "id": "tEdmhP3Flvig"
      }
    },
    {
      "cell_type": "code",
      "metadata": {
        "id": "ueC2apB-HxVZ"
      },
      "source": [
        "# Nuestra página objetivo\n",
        "url_objetivo = \"https://books.toscrape.com/\""
      ],
      "execution_count": 3,
      "outputs": []
    },
    {
      "cell_type": "markdown",
      "source": [
        "\n",
        "**4. Obtener un request de la URL objetivo y comprobación de la respuesta**\n",
        "\n",
        "\n",
        "```\n",
        "site = requests.get(url_objetivo)\n",
        "\n",
        "```\n",
        "`requests.get(url_objetivo)`: Se envía una solicitud HTTP GET a la URL especificada (url_objetivo) para descargar el contenido de la página web.\n",
        "La variable `site` contiene la respuesta del servidor, incluyendo el código de estado (status code) y el contenido de la página en formato HTML.\n",
        "\n",
        "`if site.status_code == 200`: El código verifica si la solicitud fue exitosa. Un status_code 200 significa que la página fue encontrada correctamente (OK) y se puede proceder a trabajar con su contenido.\n",
        "Si el código no fuera 200 (por ejemplo, un 404 o 500), significaría que hubo un error y no tendría sentido continuar con el scraping.\n",
        "\n"
      ],
      "metadata": {
        "id": "9iexCcIzfuhc"
      }
    },
    {
      "cell_type": "code",
      "source": [
        "# Obtener un requests de la URL objetivo\n",
        "site = requests.get(url_objetivo)\n",
        "\n",
        "# Si el Status Code es OK!\n",
        "if site.status_code == 200:\n",
        "  # Hacer al Site un soup\n",
        "  soup = BeautifulSoup(site.text)\n"
      ],
      "metadata": {
        "id": "bhng9n08iGdE"
      },
      "execution_count": 4,
      "outputs": []
    },
    {
      "cell_type": "markdown",
      "source": [
        "\n",
        "**5. Convertir el contenido HTML en un objeto BautifulSoup**\n",
        "\n",
        "\n",
        "```\n",
        "soup = BeautifulSoup(site.text)\n",
        "\n",
        "```\n",
        "\n",
        "`BeautifulSoup(site.text)`: Convierte el contenido HTML obtenido (contenido de la página) en un objeto BeautifulSoup.\n",
        "\n",
        "`site.text`: Es el contenido de la página en formato texto (el HTML).\n",
        "`BeautifulSoup` permite analizar el contenido HTML y facilita el acceso a sus etiquetas y atributos."
      ],
      "metadata": {
        "id": "9_d42R7YhKuL"
      }
    },
    {
      "cell_type": "code",
      "source": [
        "soup = BeautifulSoup(site.text)\n",
        "#soup"
      ],
      "metadata": {
        "id": "0Zg8bOyajA4n",
        "collapsed": true
      },
      "execution_count": 7,
      "outputs": []
    },
    {
      "cell_type": "markdown",
      "source": [
        "**6. Obtener todas las etiquetas de enlace '< a >' en la web:**\n",
        "\n",
        "\n",
        "```\n",
        "tags = soup('a')\n",
        "\n",
        "```\n",
        "\n",
        "`soup('a')`: Busca todas las etiquetas < a > en el documento HTML. Las etiquetas < a > son usadas para crear enlaces (hipervínculos) en HTML.\n",
        "Esta línea guarda una lista de todas las etiquetas < a > en la variable tags."
      ],
      "metadata": {
        "id": "suKeSO7JjAfC"
      }
    },
    {
      "cell_type": "code",
      "source": [
        "tags = soup('a')\n",
        "#tags"
      ],
      "metadata": {
        "collapsed": true,
        "id": "tA-3XiZ0g2Dq"
      },
      "execution_count": 27,
      "outputs": []
    },
    {
      "cell_type": "markdown",
      "source": [
        "**7. Recorrer con un ciclo para imprimir el contenido de los enlaces:**\n",
        "\n",
        "\n",
        "```\n",
        "for tag in tags:\n",
        "    print(tag.get('href'))\n",
        "```\n",
        "\n",
        "\n",
        "`for tag in tags:` Recorre cada etiqueta < a > (enlace) encontrada en el sitio.\n",
        "\n",
        "`tag.get('href')`: Obtiene el valor del atributo href de cada etiqueta < a >. Este atributo contiene la URL a la que apunta el enlace.\n",
        "\n",
        "`print(tag.get('href'))`: Imprime la URL del enlace en la consola. Si un enlace no tiene el atributo href, tag.get('href') devolverá None."
      ],
      "metadata": {
        "id": "7m6ravcikKpy"
      }
    },
    {
      "cell_type": "code",
      "metadata": {
        "id": "pi5PzkZhY97s",
        "colab": {
          "base_uri": "https://localhost:8080/"
        },
        "outputId": "95e3447c-1223-4d2b-f6c6-e79539039bba"
      },
      "source": [
        "# Obtener todas las etiquetas de enlace que hay en la web\n",
        "tags = soup('a')\n",
        "\n",
        "# Recorrer con un ciclo para imprimir el contenido\n",
        "for tag in tags:\n",
        "  print(tag.get('href'))\n",
        "\n"
      ],
      "execution_count": 11,
      "outputs": [
        {
          "output_type": "stream",
          "name": "stdout",
          "text": [
            "index.html\n",
            "index.html\n",
            "catalogue/category/books_1/index.html\n",
            "catalogue/category/books/travel_2/index.html\n",
            "catalogue/category/books/mystery_3/index.html\n",
            "catalogue/category/books/historical-fiction_4/index.html\n",
            "catalogue/category/books/sequential-art_5/index.html\n",
            "catalogue/category/books/classics_6/index.html\n",
            "catalogue/category/books/philosophy_7/index.html\n",
            "catalogue/category/books/romance_8/index.html\n",
            "catalogue/category/books/womens-fiction_9/index.html\n",
            "catalogue/category/books/fiction_10/index.html\n",
            "catalogue/category/books/childrens_11/index.html\n",
            "catalogue/category/books/religion_12/index.html\n",
            "catalogue/category/books/nonfiction_13/index.html\n",
            "catalogue/category/books/music_14/index.html\n",
            "catalogue/category/books/default_15/index.html\n",
            "catalogue/category/books/science-fiction_16/index.html\n",
            "catalogue/category/books/sports-and-games_17/index.html\n",
            "catalogue/category/books/add-a-comment_18/index.html\n",
            "catalogue/category/books/fantasy_19/index.html\n",
            "catalogue/category/books/new-adult_20/index.html\n",
            "catalogue/category/books/young-adult_21/index.html\n",
            "catalogue/category/books/science_22/index.html\n",
            "catalogue/category/books/poetry_23/index.html\n",
            "catalogue/category/books/paranormal_24/index.html\n",
            "catalogue/category/books/art_25/index.html\n",
            "catalogue/category/books/psychology_26/index.html\n",
            "catalogue/category/books/autobiography_27/index.html\n",
            "catalogue/category/books/parenting_28/index.html\n",
            "catalogue/category/books/adult-fiction_29/index.html\n",
            "catalogue/category/books/humor_30/index.html\n",
            "catalogue/category/books/horror_31/index.html\n",
            "catalogue/category/books/history_32/index.html\n",
            "catalogue/category/books/food-and-drink_33/index.html\n",
            "catalogue/category/books/christian-fiction_34/index.html\n",
            "catalogue/category/books/business_35/index.html\n",
            "catalogue/category/books/biography_36/index.html\n",
            "catalogue/category/books/thriller_37/index.html\n",
            "catalogue/category/books/contemporary_38/index.html\n",
            "catalogue/category/books/spirituality_39/index.html\n",
            "catalogue/category/books/academic_40/index.html\n",
            "catalogue/category/books/self-help_41/index.html\n",
            "catalogue/category/books/historical_42/index.html\n",
            "catalogue/category/books/christian_43/index.html\n",
            "catalogue/category/books/suspense_44/index.html\n",
            "catalogue/category/books/short-stories_45/index.html\n",
            "catalogue/category/books/novels_46/index.html\n",
            "catalogue/category/books/health_47/index.html\n",
            "catalogue/category/books/politics_48/index.html\n",
            "catalogue/category/books/cultural_49/index.html\n",
            "catalogue/category/books/erotica_50/index.html\n",
            "catalogue/category/books/crime_51/index.html\n",
            "catalogue/a-light-in-the-attic_1000/index.html\n",
            "catalogue/a-light-in-the-attic_1000/index.html\n",
            "catalogue/tipping-the-velvet_999/index.html\n",
            "catalogue/tipping-the-velvet_999/index.html\n",
            "catalogue/soumission_998/index.html\n",
            "catalogue/soumission_998/index.html\n",
            "catalogue/sharp-objects_997/index.html\n",
            "catalogue/sharp-objects_997/index.html\n",
            "catalogue/sapiens-a-brief-history-of-humankind_996/index.html\n",
            "catalogue/sapiens-a-brief-history-of-humankind_996/index.html\n",
            "catalogue/the-requiem-red_995/index.html\n",
            "catalogue/the-requiem-red_995/index.html\n",
            "catalogue/the-dirty-little-secrets-of-getting-your-dream-job_994/index.html\n",
            "catalogue/the-dirty-little-secrets-of-getting-your-dream-job_994/index.html\n",
            "catalogue/the-coming-woman-a-novel-based-on-the-life-of-the-infamous-feminist-victoria-woodhull_993/index.html\n",
            "catalogue/the-coming-woman-a-novel-based-on-the-life-of-the-infamous-feminist-victoria-woodhull_993/index.html\n",
            "catalogue/the-boys-in-the-boat-nine-americans-and-their-epic-quest-for-gold-at-the-1936-berlin-olympics_992/index.html\n",
            "catalogue/the-boys-in-the-boat-nine-americans-and-their-epic-quest-for-gold-at-the-1936-berlin-olympics_992/index.html\n",
            "catalogue/the-black-maria_991/index.html\n",
            "catalogue/the-black-maria_991/index.html\n",
            "catalogue/starving-hearts-triangular-trade-trilogy-1_990/index.html\n",
            "catalogue/starving-hearts-triangular-trade-trilogy-1_990/index.html\n",
            "catalogue/shakespeares-sonnets_989/index.html\n",
            "catalogue/shakespeares-sonnets_989/index.html\n",
            "catalogue/set-me-free_988/index.html\n",
            "catalogue/set-me-free_988/index.html\n",
            "catalogue/scott-pilgrims-precious-little-life-scott-pilgrim-1_987/index.html\n",
            "catalogue/scott-pilgrims-precious-little-life-scott-pilgrim-1_987/index.html\n",
            "catalogue/rip-it-up-and-start-again_986/index.html\n",
            "catalogue/rip-it-up-and-start-again_986/index.html\n",
            "catalogue/our-band-could-be-your-life-scenes-from-the-american-indie-underground-1981-1991_985/index.html\n",
            "catalogue/our-band-could-be-your-life-scenes-from-the-american-indie-underground-1981-1991_985/index.html\n",
            "catalogue/olio_984/index.html\n",
            "catalogue/olio_984/index.html\n",
            "catalogue/mesaerion-the-best-science-fiction-stories-1800-1849_983/index.html\n",
            "catalogue/mesaerion-the-best-science-fiction-stories-1800-1849_983/index.html\n",
            "catalogue/libertarianism-for-beginners_982/index.html\n",
            "catalogue/libertarianism-for-beginners_982/index.html\n",
            "catalogue/its-only-the-himalayas_981/index.html\n",
            "catalogue/its-only-the-himalayas_981/index.html\n",
            "catalogue/page-2.html\n"
          ]
        }
      ]
    },
    {
      "cell_type": "code",
      "source": [
        "# Prueba la siguiente línea. Qué imprime?\n",
        "for tag in tags:\n",
        "  print(tag.get_text())"
      ],
      "metadata": {
        "id": "5Quh3SlbsDhW",
        "colab": {
          "base_uri": "https://localhost:8080/"
        },
        "outputId": "780f1d75-d043-4133-a6b2-dab9417b63af"
      },
      "execution_count": 12,
      "outputs": [
        {
          "output_type": "stream",
          "name": "stdout",
          "text": [
            "Books to Scrape\n",
            "Home\n",
            "\n",
            "                            \n",
            "                                Books\n",
            "                            \n",
            "                        \n",
            "\n",
            "                            \n",
            "                                Travel\n",
            "                            \n",
            "                        \n",
            "\n",
            "                            \n",
            "                                Mystery\n",
            "                            \n",
            "                        \n",
            "\n",
            "                            \n",
            "                                Historical Fiction\n",
            "                            \n",
            "                        \n",
            "\n",
            "                            \n",
            "                                Sequential Art\n",
            "                            \n",
            "                        \n",
            "\n",
            "                            \n",
            "                                Classics\n",
            "                            \n",
            "                        \n",
            "\n",
            "                            \n",
            "                                Philosophy\n",
            "                            \n",
            "                        \n",
            "\n",
            "                            \n",
            "                                Romance\n",
            "                            \n",
            "                        \n",
            "\n",
            "                            \n",
            "                                Womens Fiction\n",
            "                            \n",
            "                        \n",
            "\n",
            "                            \n",
            "                                Fiction\n",
            "                            \n",
            "                        \n",
            "\n",
            "                            \n",
            "                                Childrens\n",
            "                            \n",
            "                        \n",
            "\n",
            "                            \n",
            "                                Religion\n",
            "                            \n",
            "                        \n",
            "\n",
            "                            \n",
            "                                Nonfiction\n",
            "                            \n",
            "                        \n",
            "\n",
            "                            \n",
            "                                Music\n",
            "                            \n",
            "                        \n",
            "\n",
            "                            \n",
            "                                Default\n",
            "                            \n",
            "                        \n",
            "\n",
            "                            \n",
            "                                Science Fiction\n",
            "                            \n",
            "                        \n",
            "\n",
            "                            \n",
            "                                Sports and Games\n",
            "                            \n",
            "                        \n",
            "\n",
            "                            \n",
            "                                Add a comment\n",
            "                            \n",
            "                        \n",
            "\n",
            "                            \n",
            "                                Fantasy\n",
            "                            \n",
            "                        \n",
            "\n",
            "                            \n",
            "                                New Adult\n",
            "                            \n",
            "                        \n",
            "\n",
            "                            \n",
            "                                Young Adult\n",
            "                            \n",
            "                        \n",
            "\n",
            "                            \n",
            "                                Science\n",
            "                            \n",
            "                        \n",
            "\n",
            "                            \n",
            "                                Poetry\n",
            "                            \n",
            "                        \n",
            "\n",
            "                            \n",
            "                                Paranormal\n",
            "                            \n",
            "                        \n",
            "\n",
            "                            \n",
            "                                Art\n",
            "                            \n",
            "                        \n",
            "\n",
            "                            \n",
            "                                Psychology\n",
            "                            \n",
            "                        \n",
            "\n",
            "                            \n",
            "                                Autobiography\n",
            "                            \n",
            "                        \n",
            "\n",
            "                            \n",
            "                                Parenting\n",
            "                            \n",
            "                        \n",
            "\n",
            "                            \n",
            "                                Adult Fiction\n",
            "                            \n",
            "                        \n",
            "\n",
            "                            \n",
            "                                Humor\n",
            "                            \n",
            "                        \n",
            "\n",
            "                            \n",
            "                                Horror\n",
            "                            \n",
            "                        \n",
            "\n",
            "                            \n",
            "                                History\n",
            "                            \n",
            "                        \n",
            "\n",
            "                            \n",
            "                                Food and Drink\n",
            "                            \n",
            "                        \n",
            "\n",
            "                            \n",
            "                                Christian Fiction\n",
            "                            \n",
            "                        \n",
            "\n",
            "                            \n",
            "                                Business\n",
            "                            \n",
            "                        \n",
            "\n",
            "                            \n",
            "                                Biography\n",
            "                            \n",
            "                        \n",
            "\n",
            "                            \n",
            "                                Thriller\n",
            "                            \n",
            "                        \n",
            "\n",
            "                            \n",
            "                                Contemporary\n",
            "                            \n",
            "                        \n",
            "\n",
            "                            \n",
            "                                Spirituality\n",
            "                            \n",
            "                        \n",
            "\n",
            "                            \n",
            "                                Academic\n",
            "                            \n",
            "                        \n",
            "\n",
            "                            \n",
            "                                Self Help\n",
            "                            \n",
            "                        \n",
            "\n",
            "                            \n",
            "                                Historical\n",
            "                            \n",
            "                        \n",
            "\n",
            "                            \n",
            "                                Christian\n",
            "                            \n",
            "                        \n",
            "\n",
            "                            \n",
            "                                Suspense\n",
            "                            \n",
            "                        \n",
            "\n",
            "                            \n",
            "                                Short Stories\n",
            "                            \n",
            "                        \n",
            "\n",
            "                            \n",
            "                                Novels\n",
            "                            \n",
            "                        \n",
            "\n",
            "                            \n",
            "                                Health\n",
            "                            \n",
            "                        \n",
            "\n",
            "                            \n",
            "                                Politics\n",
            "                            \n",
            "                        \n",
            "\n",
            "                            \n",
            "                                Cultural\n",
            "                            \n",
            "                        \n",
            "\n",
            "                            \n",
            "                                Erotica\n",
            "                            \n",
            "                        \n",
            "\n",
            "                            \n",
            "                                Crime\n",
            "                            \n",
            "                        \n",
            "\n",
            "A Light in the ...\n",
            "\n",
            "Tipping the Velvet\n",
            "\n",
            "Soumission\n",
            "\n",
            "Sharp Objects\n",
            "\n",
            "Sapiens: A Brief History ...\n",
            "\n",
            "The Requiem Red\n",
            "\n",
            "The Dirty Little Secrets ...\n",
            "\n",
            "The Coming Woman: A ...\n",
            "\n",
            "The Boys in the ...\n",
            "\n",
            "The Black Maria\n",
            "\n",
            "Starving Hearts (Triangular Trade ...\n",
            "\n",
            "Shakespeare's Sonnets\n",
            "\n",
            "Set Me Free\n",
            "\n",
            "Scott Pilgrim's Precious Little ...\n",
            "\n",
            "Rip it Up and ...\n",
            "\n",
            "Our Band Could Be ...\n",
            "\n",
            "Olio\n",
            "\n",
            "Mesaerion: The Best Science ...\n",
            "\n",
            "Libertarianism for Beginners\n",
            "\n",
            "It's Only the Himalayas\n",
            "next\n"
          ]
        }
      ]
    },
    {
      "cell_type": "markdown",
      "source": [
        "**Actividad:**\n",
        "\n",
        "Ahora que ya comprendiste el código, prueba imprimiendo otros elementos de este sitio.\n",
        "\n",
        "Ej. `<title>, <h1>,  <div>`\n",
        "\n",
        "Ingresa al sitio https://books.toscrape.com/ y con Ctrl+U puedes ver el contenido HTML de la página."
      ],
      "metadata": {
        "id": "wFkE0cmYkXVR"
      }
    },
    {
      "cell_type": "code",
      "source": [
        "# prompt: de tags imprimir <title>, <h1>, <div>\n",
        "\n",
        "import requests\n",
        "from bs4 import BeautifulSoup\n",
        "\n",
        "url_objetivo = \"https://books.toscrape.com/\"\n",
        "site = requests.get(url_objetivo)\n",
        "\n",
        "if site.status_code == 200:\n",
        "  soup = BeautifulSoup(site.text)\n"
      ],
      "metadata": {
        "id": "BVOD_fSPiYfj"
      },
      "execution_count": 15,
      "outputs": []
    },
    {
      "cell_type": "code",
      "source": [
        "\n",
        "# Imprimir <title>\n",
        "title_tag = soup.title\n",
        "if title_tag:\n",
        "  print(\"Title:\", title_tag.string)\n"
      ],
      "metadata": {
        "colab": {
          "base_uri": "https://localhost:8080/"
        },
        "id": "lSHU686ait_h",
        "outputId": "b250752e-c4a3-449e-8830-60e02de317cb"
      },
      "execution_count": 16,
      "outputs": [
        {
          "output_type": "stream",
          "name": "stdout",
          "text": [
            "Title: \n",
            "    All products | Books to Scrape - Sandbox\n",
            "\n"
          ]
        }
      ]
    },
    {
      "cell_type": "code",
      "source": [
        "\n",
        "# Imprimir <h1>\n",
        "h1_tags = soup.find_all('h1')\n",
        "if h1_tags:\n",
        "  for h1_tag in h1_tags:\n",
        "    print(\"H1:\", h1_tag.string)\n"
      ],
      "metadata": {
        "colab": {
          "base_uri": "https://localhost:8080/"
        },
        "id": "ZR28W3r0iv1q",
        "outputId": "9b12bdcd-706a-4f94-97b9-6eb816887e09"
      },
      "execution_count": 24,
      "outputs": [
        {
          "output_type": "stream",
          "name": "stdout",
          "text": [
            "H1: All products\n"
          ]
        }
      ]
    },
    {
      "cell_type": "code",
      "source": [
        "\n",
        "# Imprimir <div>\n",
        "div_tags = soup.find_all('div')\n",
        "'''if div_tags:\n",
        "  for div_tag in div_tags:\n",
        "    print(\"Div:\", div_tag.string)\n",
        "'''\n",
        "print(\"--------------------------------------------------\")\n",
        "print(\"--------Imprimir los primeros 5 resultados--------\")\n",
        "print(\"--------------------------------------------------\")\n",
        "\n",
        "# Imprimir los primeros 5 enlaces\n",
        "count = 0\n",
        "for div_tag in div_tags:\n",
        "  if count < 5:\n",
        "    print(\"Div:\", div_tag.string)\n",
        "    count += 1\n",
        "  else:\n",
        "    break\n",
        "print(\"-------------------------------------------------\")\n",
        "print(\"--------Imprimir los últimos 5 resultados--------\")\n",
        "print(\"-------------------------------------------------\")\n",
        "# Imprimir los últimos 5 resultados\n",
        "last_5_tags = div_tags[-5:]\n",
        "for div_tag in last_5_tags:\n",
        "   print(\"Div:\", div_tag.string)\n"
      ],
      "metadata": {
        "collapsed": true,
        "colab": {
          "base_uri": "https://localhost:8080/"
        },
        "id": "OfOppAhPixV8",
        "outputId": "fd7ffa7e-99eb-4b81-8cc2-db1b287fab7c"
      },
      "execution_count": 22,
      "outputs": [
        {
          "output_type": "stream",
          "name": "stdout",
          "text": [
            "--------------------------------------------------\n",
            "--------Imprimir los primeros 5 resultados--------\n",
            "--------------------------------------------------\n",
            "Div: None\n",
            "Div: None\n",
            "Div: None\n",
            "Div: None\n",
            "Div: None\n",
            "-------------------------------------------------\n",
            "--------Imprimir los últimos 5 resultados--------\n",
            "-------------------------------------------------\n",
            "Div: None\n",
            "Div: None\n",
            "Div: None\n",
            "Div: None\n",
            "Div: None\n"
          ]
        }
      ]
    },
    {
      "cell_type": "markdown",
      "source": [
        "**Manejo de Excepciones:**\n",
        "\n",
        "A continuación un ejemplo de manejo de excepciones de la Pag 8 de la lectura Your First Web Scraper.\n"
      ],
      "metadata": {
        "id": "sOqvaP2Xxj86"
      }
    },
    {
      "cell_type": "code",
      "source": [
        "#Ej manejo de excepciones Pag 8 de la lectura Your First Web Scraper\n",
        "\n",
        "from urllib.request import urlopen\n",
        "from urllib.error import HTTPError\n",
        "from urllib.error import URLError\n",
        "try :\n",
        "  html = urlopen ( 'https://books.toscrape.com/')\n",
        "except HTTPError as e:\n",
        "  print (e)\n",
        "except URLError as e:\n",
        "  print ( 'The server could not be found!')\n",
        "# return null, break, or do some other \"Plan B\"\n",
        "else :\n",
        "# program continues. Note: If you return or break in the\n",
        "# exception catch, you do not need to use the \"else\" statement\n",
        "  print('Good job!')"
      ],
      "metadata": {
        "id": "Qa4AOfOWxrbi",
        "colab": {
          "base_uri": "https://localhost:8080/"
        },
        "outputId": "ca001b90-76d7-440b-99c7-19a25988bbf0"
      },
      "execution_count": 23,
      "outputs": [
        {
          "output_type": "stream",
          "name": "stdout",
          "text": [
            "Good job!\n"
          ]
        }
      ]
    },
    {
      "cell_type": "code",
      "source": [
        "# prompt: Visita la url_objetivo captura la informacion de href la estiqueta <a> cuando el valor de text contenga el valor childrens, e iterativamente suma los valores de la etiqueta que tenga el class igual a price_color y presenta el resultado\n",
        "\n",
        "import requests\n",
        "from bs4 import BeautifulSoup\n",
        "\n",
        "def remove_first_two_chars(text):\n",
        "  if len(text) >= 2:\n",
        "    return text[1:]\n",
        "  else:\n",
        "    return text\n",
        "\n",
        "def sum_value_books(url):\n",
        "  # Hacer una nueva solicitud a la página de \"Childrens\"\n",
        "  site = requests.get(url)\n",
        "  if site.status_code == 200:\n",
        "    soup = BeautifulSoup(site.text, 'html.parser')\n",
        "    # Encontrar todos los elementos que tengan la clase \"price_color\"\n",
        "    price_elements = soup.find_all(class_=\"price_color\")\n",
        "    total_price = 0\n",
        "    for price_element in price_elements:\n",
        "      try:\n",
        "        # Eliminar el símbolo £ y convertir a float\n",
        "        price_str = price_element.text.replace(\"Â£\", \"0\")\n",
        "        price_str = remove_first_two_chars(price_element.text.replace(\"Â£\", \"0\"))\n",
        "        #print(price_str)\n",
        "        price = float(price_str)\n",
        "        total_price += price\n",
        "      except ValueError:\n",
        "        print(f\"Error al convertir el precio: {price_element.text}\")\n",
        "\n",
        "    print(f\"La suma total de los precios de los libros de la categoría es: £{total_price}\")\n",
        "  else:\n",
        "    print(f\"Error al obtener la página:{site} {site.status_code}\")\n",
        "\n",
        "url_objetivo = \"https://books.toscrape.com/\"\n",
        "site = requests.get(url_objetivo)\n",
        "\n",
        "if site.status_code == 200:\n",
        "  soup = BeautifulSoup(site.text, 'html.parser')\n",
        "\n",
        "  # Obtener todas las etiquetas de enlace que hay en la web\n",
        "  tags = soup('a')\n",
        "  # Recorrer con un ciclo para imprimir el contenido\n",
        "  total_price = 0\n",
        "  for tag in tags:\n",
        "    if 'childrens' in tag.get('href'):\n",
        "      print(f\"Enlace encontrado con 'children': {tag_a.get('href')}\")\n",
        "      childrens_link = tag.get('href')\n",
        "      # Construir la URL completa del enlace de \"Childrens\"\n",
        "      childrens_url = url_objetivo + childrens_link\n",
        "      print(childrens_url)\n",
        "      sum_value_books(childrens_url)\n",
        "\n",
        "\n",
        "  print(f\"Suma total de los precios de los libros: {total_price}\")\n",
        "else:\n",
        "    print(\"No se pudo acceder a la URL.\")\n"
      ],
      "metadata": {
        "id": "7f2PgGPZmJwP",
        "outputId": "f3ce6a40-560f-47ec-a9d3-6d6937ee6e1a",
        "colab": {
          "base_uri": "https://localhost:8080/"
        }
      },
      "execution_count": 66,
      "outputs": [
        {
          "output_type": "stream",
          "name": "stdout",
          "text": [
            "Enlace encontrado con 'children': catalogue/page-2.html\n",
            "https://books.toscrape.com/catalogue/category/books/childrens_11/index.html\n",
            "La suma total de los precios de los libros de la categoría es: £728.0500000000001\n",
            "Suma total de los precios de los libros: 0\n"
          ]
        }
      ]
    },
    {
      "cell_type": "markdown",
      "source": [
        "**Consideraciones**:\n",
        "\n",
        "\n",
        "*   Asegúrate de respetar el archivo robots.txt del sitio web que estás scrapeando, ya que podría tener directivas que limiten o prohíban el scraping.\n",
        "*   Muchos sitios web tienen medidas de protección contra scraping, como bloqueos basados en la frecuencia de solicitudes o CAPTCHAs.\n",
        "\n",
        "\n",
        "\n",
        "\n",
        "\n"
      ],
      "metadata": {
        "id": "k1Oq0A8aldVS"
      }
    }
  ]
}