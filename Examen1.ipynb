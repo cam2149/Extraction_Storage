{
  "nbformat": 4,
  "nbformat_minor": 0,
  "metadata": {
    "colab": {
      "provenance": [],
      "toc_visible": true,
      "include_colab_link": true
    },
    "kernelspec": {
      "name": "python3",
      "display_name": "Python 3"
    },
    "language_info": {
      "name": "python"
    }
  },
  "cells": [
    {
      "cell_type": "markdown",
      "metadata": {
        "id": "view-in-github",
        "colab_type": "text"
      },
      "source": [
        "<a href=\"https://colab.research.google.com/github/cam2149/Extraction_Storage/blob/main/Examen1.ipynb\" target=\"_parent\"><img src=\"https://colab.research.google.com/assets/colab-badge.svg\" alt=\"Open In Colab\"/></a>"
      ]
    },
    {
      "cell_type": "markdown",
      "source": [
        "# Maestría en Inteligencia Artificial Aplicada\n",
        "\n",
        "## Aprendizaje Automatico 1\n",
        "\n",
        "## Examen 1\n",
        "\n",
        "### Integrantes\n",
        "\n",
        "- Yesid\n",
        "- Andres\n",
        "- Carlos Alberto Martinez Ramirez\n",
        "- Nicolas Colmenares\n",
        "\n",
        "### **Profesores**\n",
        "\n",
        "- Santiago Ortiz\n",
        "- Henry Velasco\n",
        "\n",
        "Fecha: _ de 2024"
      ],
      "metadata": {
        "id": "CccSzoYvEeN6"
      }
    },
    {
      "cell_type": "markdown",
      "source": [
        "# Ejercicio 1\n",
        "\n",
        "## Datos\n",
        "\n",
        "\"**data1**\" del fichero **data_exam1.xlsx**\n",
        "\n",
        "### Puntos\n",
        "\n",
        "1. ¿Se puede generar un modelo de regresión lineal con variable categórica sin interacción para la variable Y?\n",
        "\n",
        "  - Realizar análisis exploratorio.\n",
        "  - De ser posible, generar un modelo e interpretarlo.**texto en negrita**\n",
        "\n",
        "2. Realizar un gráfico de dispersión para **Y** vs **X**\n",
        "  - ¿Hay evidencia muestral que sugiera un cambio en la tasa media de cambio de **Y** condicionado a incrementos unitarios de **X**?\n",
        "  - ¿Considera que un modelo con interacciones sería más adecaudo?\n",
        "  - De ser posible, generar el modelo respectivo, interpretar resultados y validar supuestos."
      ],
      "metadata": {
        "id": "ZY-peTLYFfgJ"
      }
    },
    {
      "cell_type": "markdown",
      "source": [
        "# Ejercicio 2\n",
        "\n",
        "## Datos\n",
        "\n",
        "**data2** del fichero **data_exam.xlsx**\n",
        "\n",
        "## Puntos\n",
        "\n",
        "- De acuerdo al analisis del item anterior proponer una transformación para alguna variable y justificar\n",
        "- Proponer un modelo lineal, iterpretar y validar supuestos"
      ],
      "metadata": {
        "id": "jwiuMSatHi5a"
      }
    },
    {
      "cell_type": "markdown",
      "source": [
        "# Ejercicio 3\n",
        "\n",
        "## Datos\n",
        "\n",
        "**Wine Quality** del fichero **datos.xlsx**\n",
        "\n",
        "**Y**= Densidad\n",
        "\n",
        "**Eliminar:**\n",
        "\n",
        "- PH\n",
        "- Sulfatos\n",
        "- Cloruros\n",
        "- Acidez Volátil\n",
        "- Acidez Fija\n",
        "- Calidad de Vino\n",
        "\n",
        "## Puntos\n",
        "\n",
        "1. Estandarizar variables y calcular matrices de correlación de **Pearson**, **Kendall** y **Spearman**. ¿Qué diferencia hay entre las dependencias obtenidas?\n",
        "2. Realizar particios de datos 80-20.\n",
        "  - Construir 3 modelos RLM.\n",
        "  - Comparar e interpretar los valores de los coeficientes de regresión en cada método.\n",
        "3. ¿Cuál de los modelos propuestos predice mejor?\n",
        "  - Realizar una predicción con los datos de prueba.\n",
        "  - Calcular el RMSE.\n",
        "4. Validar supuesto teóricos de cada modelo.\n",
        "5. Realizar un diagrama de dispersión del conjunto de datos.\n",
        "  - ¿Se evidencia comportamientos lineales?\n",
        "  - Si no son lineales realizar transformaciones de varaibles y justificar.\n",
        "  - Generar un modelo RLM e interpretar."
      ],
      "metadata": {
        "id": "cBw09Wf-IH9_"
      }
    },
    {
      "cell_type": "markdown",
      "source": [
        "# Ejercicio 4\n",
        "\n",
        "## Datos\n",
        "\n",
        "**publicidad.csv**\n",
        "\n",
        "## Puntos\n",
        "\n",
        "1. Graficar el retorno de la inversión **Sales** vs **TV, Radio, Newspaper**.\n",
        "  - Usar scatter_matrix()\n",
        "  - Interpretar graficos de las variables 2 a 2.\n",
        "2. Calcular coeficiente de correlación.\n",
        "  - Graficar mapa de calor de las correlaciones.\n",
        "  - Interpretar las estructuras de dependencia encontradas.\n",
        "3. Escoger una de las 3 variables para modelar las ventas.\n",
        "  - Ajustar modelo de regresión lineal simple y encontrar la ecuación de la recta\n",
        "  - ¿Cuál es el valor del coeficiente de determinación ${𝑅}^2$.\n",
        "  - ¿Cómo se interpreta este valor?\n",
        "4. Realizar una predicción del retorno a la inversión al realizar 5 anuncios.\n",
        "  - ¿Cuál es el intervalo de confianza del 95% para la predicción?"
      ],
      "metadata": {
        "id": "6HG8dZelKMsC"
      }
    }
  ]
}